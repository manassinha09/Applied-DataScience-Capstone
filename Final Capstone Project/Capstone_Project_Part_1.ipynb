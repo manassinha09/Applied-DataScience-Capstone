{
 "cells": [
  {
   "cell_type": "markdown",
   "metadata": {
    "colab_type": "text",
    "id": "XNeIdx4lwsI6"
   },
   "source": [
    "# Bangalore Food Preference by Neighborhood\n",
    "__By: Manas Sinha__  \n",
    "\n",
    "__In this Jupyter Notebook we'll try to find which areas in Bangalore prefer which type of food and what areas consume similar type of food__"
   ]
  },
  {
   "cell_type": "markdown",
   "metadata": {
    "colab_type": "text",
    "id": "F2-LdUnTI4Zc"
   },
   "source": [
    "## Problem\n",
    "Bangalore is the third most populous city in India, and is home to many technology companies. According to [this article](https://www.thehindu.com/news/cities/bangalore/migrants-constitute-42-of-bengalurus-population/article28734588.ece), more than 42% of Bangalore's population consists of migrants which makes the city's population quite diverse.  \n",
    "\n",
    "Undoubtedly when there is such a large quantity of migrants, there will be a lot of diversity in the food people of the city eat. The idea of this project is to categorically segment the neighborhoods of Bangalore into major clusters and examine their cuisines. A desirable intention is to examine the neighborhood cluster's food habits and taste. Further examination might reveal if food has any relationship with the diversity of a neighborhood.  \n",
    "\n",
    "Stakeholders would be the ones who are interested to use this quantifiable analysis to understand the distribution of different cultures and cuisines over one of the the most diverse cities in India - Bangalore. This project can also be utilized by a new food vendor who is willing to open his or her restaurant. Or by a government authority to examine and study their city's culture diversity better."
   ]
  },
  {
   "cell_type": "markdown",
   "metadata": {
    "colab_type": "text",
    "id": "cNZ8Jk8JK-ty"
   },
   "source": [
    "## Solution and data to be used and analyzed  \n",
    "\n",
    "This project will help to understand the diversity of a neighborhood by leveraging venue data from Foursquare’s ‘Places API’ and ‘k-means clustering’ machine learning algorithm. Exploratory Data Analysis (EDA) will help to discover further about the culture and diversity of the neighborhood.\n",
    "\n",
    "This will help the ones who are interested to use this quantifiable analysis to understand the distribution of different cultures and cuisines over one of the the most diverse cities in India - Bangalore. This project can also be utilized by a new food vendor who is willing to open his or her restaurant. Or by a government authority to examine and study their city's culture diversity better.\n",
    "\n",
    "The following data sources are used to implement our project:  \n",
    "  1. Bangalore Neighborhoods : Which provides us with geocoded data for the city of Bangalore. The link to this database can be found [here](https://www.kaggle.com/rmenon1998/bangalore-neighborhoods)  \n",
    "\n",
    "  2. Foursquare API:\n",
    "\n",
    "Link: https://developer.foursquare.com/docs  \n",
    "Description: Foursquare API, a location data provider, will be used to make RESTful API calls to retrieve data about venues in different neighborhoods. This is the link to Foursquare Venue Category Hierarchy. Venues retrieved from all the neighborhoods are categorized broadly into \"Arts & Entertainment\", \"College & University\", \"Event\", \"Food\", \"Nightlife Spot\", \"Outdoors & Recreation\", etc. An extract of an API call is as follows:  \n",
    "    'categories': [{'id': '4bf58dd8d48988d110941735',  \n",
    "    'name': 'Italian Restaurant',  \n",
    "    'pluralName': 'Italian Restaurants',  \n",
    "    'shortName': 'Italian',  \n",
    "    'icon': {'prefix': 'https://ss3.4sqi.net/img/categories_v2/food/italian_',  \n",
    "    'suffix': '.png'},  \n",
    "    'primary': True}],  \n",
    "    'verified': False,  \n",
    "    'stats': {'tipCount': 17},  \n",
    "    'url': 'http://eccorestaurantny.com',  \n",
    "    'price': {'tier': 4, 'message': 'Very Expensive', 'currency'  "
   ]
  },
  {
   "cell_type": "code",
   "execution_count": null,
   "metadata": {},
   "outputs": [],
   "source": []
  }
 ],
 "metadata": {
  "colab": {
   "name": "Copy of Capstone Project .ipynb",
   "provenance": [],
   "toc_visible": true
  },
  "kernelspec": {
   "display_name": "Python 3",
   "language": "python",
   "name": "python3"
  },
  "language_info": {
   "codemirror_mode": {
    "name": "ipython",
    "version": 3
   },
   "file_extension": ".py",
   "mimetype": "text/x-python",
   "name": "python",
   "nbconvert_exporter": "python",
   "pygments_lexer": "ipython3",
   "version": "3.7.4"
  }
 },
 "nbformat": 4,
 "nbformat_minor": 1
}
